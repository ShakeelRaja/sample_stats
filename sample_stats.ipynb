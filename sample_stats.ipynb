{
 "cells": [
  {
   "cell_type": "markdown",
   "metadata": {},
   "source": [
    "# Sampling Statistics"
   ]
  },
  {
   "cell_type": "markdown",
   "metadata": {},
   "source": [
    "## SWBAT\n",
    "* State the mean and variance of the sampling distribution of the mean\n",
    "* Compute the standard error of the mean\n",
    "* State the central limit theorem !!\n"
   ]
  },
  {
   "cell_type": "markdown",
   "metadata": {},
   "source": [
    "## Introduction: \n",
    "\n",
    "Sampling distribution can be thought of as relative frequency distribution with a large number of samples. A relative frequency \n",
    "distribution tends to approach the sampling distribution as number of samples increase. \n",
    "> When variables are discrete, the heights of distributions are probablilities, and when continuous variables these are probability densities. "
   ]
  },
  {
   "cell_type": "markdown",
   "metadata": {},
   "source": [
    "In order to learn the population mean, we dont measure the whole population. Instead, we take a random sample and use sample mean ( $\\hat{x}$ ) to estimate population mean ( μ ). The sample mean in such cases depends upon the values of samples chosen, however the population mean remains fixed. While using sample mean to estimate population mean, we come across sampling error, which directly relates to the standard deviation of a sampling statistic. Let's learn about these concepts through an example."
   ]
  },
  {
   "cell_type": "markdown",
   "metadata": {},
   "source": [
    ">**Pumpkin Weights**\n",
    ">The population is the weight of six pumpkins (in pounds) displayed in a carnival \"guess the weight\" game booth. You are asked to guess the average weight of the six pumpkins by taking a random sample without replacement from the population.\n",
    "\n",
    "| Pumpkin | Weight (in pounds) |\n",
    "|---------|--------------------|\n",
    "| A       | 19                 |\n",
    "| B       | 14                 |\n",
    "| C       | 15                 |\n",
    "| D       | 9                  |\n",
    "| E       | 10                 |\n",
    "| F       | 17                 |"
   ]
  },
  {
   "cell_type": "markdown",
   "metadata": {},
   "source": [
    "### Step 1\n",
    "Lets calculate the population mean first, which we calculate as:\n",
    "μ = sum of all elements / N"
   ]
  },
  {
   "cell_type": "code",
   "execution_count": null,
   "metadata": {},
   "outputs": [],
   "source": [
    "from collections import Counter"
   ]
  },
  {
   "cell_type": "code",
   "execution_count": 17,
   "metadata": {},
   "outputs": [
    {
     "data": {
      "text/plain": [
       "{'A': 19, 'B': 14, 'C': 15, 'D': 9, 'E': 10, 'F': 17}"
      ]
     },
     "execution_count": 17,
     "metadata": {},
     "output_type": "execute_result"
    }
   ],
   "source": [
    "\n",
    "# Create two lists with pumpkin names and weights\n",
    "pumpkin = ['A', 'B', 'C', 'D', 'E', 'F']\n",
    "weights = [19, 14, 15, 9, 10, 17]\n",
    "\n",
    "# Combine both lists to create a dictionary\n",
    "pumpkin_dict = {}\n",
    "for i in range(len(pumpkin)):\n",
    "    pumpkin_dict[pumpkin[i]] = weights[i]\n",
    "\n",
    "pumpkin_dict\n",
    "\n",
    "#{'A': 19, 'B': 14, 'C': 15, 'D': 9, 'E': 10, 'F': 17}\n"
   ]
  },
  {
   "cell_type": "code",
   "execution_count": 18,
   "metadata": {},
   "outputs": [
    {
     "data": {
      "text/plain": [
       "14.0"
      ]
     },
     "execution_count": 18,
     "metadata": {},
     "output_type": "execute_result"
    }
   ],
   "source": [
    "def calculate_mu(x):\n",
    "    d = float(sum(x.values())) / len(x)    \n",
    "    return (d)   \n",
    "\n",
    "calculate_mu(pumpkin_dict)\n",
    "# 14.0"
   ]
  },
  {
   "cell_type": "markdown",
   "metadata": {},
   "source": [
    "### Step 2\n",
    "Obtain the sampling distribution of the sample mean for a sample size of 2 when one samples without replacement."
   ]
  },
  {
   "cell_type": "code",
   "execution_count": 160,
   "metadata": {},
   "outputs": [
    {
     "name": "stdout",
     "output_type": "stream",
     "text": [
      "[('A', 'B', 'C', 'D', 'E'), ('A', 'B', 'C', 'D', 'F'), ('A', 'B', 'C', 'E', 'F'), ('A', 'B', 'D', 'E', 'F'), ('A', 'C', 'D', 'E', 'F'), ('B', 'C', 'D', 'E', 'F')]\n"
     ]
    },
    {
     "data": {
      "text/plain": [
       "6"
      ]
     },
     "execution_count": 160,
     "metadata": {},
     "output_type": "execute_result"
    }
   ],
   "source": [
    "import itertools\n",
    "pumpkin_dict.items()\n",
    "n = 5 # Sample Size\n",
    "x = list(itertools.combinations(pumpkin_dict, n))\n",
    "#x = map(set, itertools.combinations(pumpkin_dict, 2))\n",
    "print (x)\n",
    "len(x)"
   ]
  },
  {
   "cell_type": "code",
   "execution_count": 161,
   "metadata": {},
   "outputs": [
    {
     "name": "stdout",
     "output_type": "stream",
     "text": [
      "[13.4, 14.8, 15.0, 13.8, 14.0, 13.0]\n",
      "6 6\n"
     ]
    },
    {
     "data": {
      "text/plain": [
       "[(('A', 'B', 'C', 'D', 'E'), 13.4, '1/6'),\n",
       " (('A', 'B', 'C', 'D', 'F'), 14.8, '1/6'),\n",
       " (('A', 'B', 'C', 'E', 'F'), 15.0, '1/6'),\n",
       " (('A', 'B', 'D', 'E', 'F'), 13.8, '1/6'),\n",
       " (('A', 'C', 'D', 'E', 'F'), 14.0, '1/6'),\n",
       " (('B', 'C', 'D', 'E', 'F'), 13.0, '1/6')]"
      ]
     },
     "execution_count": 161,
     "metadata": {},
     "output_type": "execute_result"
    }
   ],
   "source": [
    "\n",
    "# columns = ['Sample1', 'Weight1', 'Sample2', 'Weight2', 'y_hat', 'Prob']\n",
    "# df = pd.DataFrame(index=index, columns=columns)\n",
    "y_hat_list = []\n",
    "\n",
    "for y in range(len(x)):\n",
    "    sum = 0\n",
    "    for i in range(n):\n",
    "    \n",
    "        key = x[y][i]\n",
    "        val =pumpkin_dict[str(x[y][i])]\n",
    "        sum += val\n",
    "    y_hat = sum/n\n",
    "    y_hat_list.append(y_hat)\n",
    "\n",
    "print(y_hat_list)\n",
    "freq = Counter(y_hat_list)\n",
    "\n",
    "#def add_prob(freq, definition):\n",
    "prob = []\n",
    "for element in y_hat_list:\n",
    "    for key in freq.keys():\n",
    "        if element == key:\n",
    "            #prob.append([element, str(freq[key])+\"/\"+str(len(x))   ])\n",
    "            prob.append(str(freq[key])+\"/\"+str(len(x))   )\n",
    "\n",
    "print(len(y_hat_list), len(prob))  \n",
    "ttt = list(zip(x, y_hat_list, prob))\n",
    "ttt\n"
   ]
  },
  {
   "cell_type": "markdown",
   "metadata": {},
   "source": [
    "We can see that the chance that the sample mean is exactly the population mean (i.e. 15) is only 1 in 15, very small. It may happen that the sample mean can never be the same value as the population mean. When using the sample mean to estimate the population mean, some possible error will be involved since sample mean is random."
   ]
  },
  {
   "cell_type": "markdown",
   "metadata": {},
   "source": [
    "The mean of the sample mean when the sample size is 2:"
   ]
  },
  {
   "cell_type": "code",
   "execution_count": 162,
   "metadata": {},
   "outputs": [
    {
     "data": {
      "text/plain": [
       "14.0"
      ]
     },
     "execution_count": 162,
     "metadata": {},
     "output_type": "execute_result"
    }
   ],
   "source": [
    "np.mean(y_hat_list)"
   ]
  },
  {
   "cell_type": "markdown",
   "metadata": {},
   "source": [
    "Thus, even though each sample may give you an answer involving some error, the expected value is right at the target: exactly the population mean. In other words, if one does the experiment over and over again, the overall average of the sample mean is exactly the population mean."
   ]
  },
  {
   "cell_type": "markdown",
   "metadata": {},
   "source": [
    "Now let's obtain the sampling distribution for the sample mean when the sample size is 5."
   ]
  },
  {
   "cell_type": "code",
   "execution_count": null,
   "metadata": {},
   "outputs": [],
   "source": [
    "# 14 same as before"
   ]
  },
  {
   "cell_type": "markdown",
   "metadata": {},
   "source": [
    "Again, we see that using sample mean to estimate population mean involves sampling error. However, the error with a sample of size 5 is on the average smaller than with a sample of size 2."
   ]
  },
  {
   "cell_type": "markdown",
   "metadata": {},
   "source": [
    "**CONTd**"
   ]
  }
 ],
 "metadata": {
  "kernelspec": {
   "display_name": "Python 3",
   "language": "python",
   "name": "python3"
  },
  "language_info": {
   "codemirror_mode": {
    "name": "ipython",
    "version": 3
   },
   "file_extension": ".py",
   "mimetype": "text/x-python",
   "name": "python",
   "nbconvert_exporter": "python",
   "pygments_lexer": "ipython3",
   "version": "3.6.4"
  }
 },
 "nbformat": 4,
 "nbformat_minor": 2
}
